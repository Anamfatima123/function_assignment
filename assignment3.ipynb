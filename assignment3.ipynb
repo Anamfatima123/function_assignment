{
 "cells": [
  {
   "cell_type": "markdown",
   "id": "62f34bb0",
   "metadata": {},
   "source": [
    "1.What is the difference between a function and a method in Python?\n",
    "\n",
    "ans-A function is a standalone block of code, while a method is a function that belongs to an object (defined inside a class). Methods take self as the first parameter.\n",
    "\n",
    "\n"
   ]
  },
  {
   "cell_type": "markdown",
   "id": "0b65d402",
   "metadata": {},
   "source": [
    "ques2.Explain the concept of function arguments and parameters in Python.\n",
    "\n",
    "ans-In Python, parameters and arguments relate to how functions receive and use values. parameters are defined in function header , they act as a placeholder for the value that function will recieve. arguments is used when we pass value to the function. so parameter are placeholder and argument is just a value \n",
    "# example \n",
    "# def greet(name): here name is parameter\n",
    "# greet(\"abay\") here abay is argument\n",
    "\n",
    "ques3.What are the different ways to define and call a function in Python?\n",
    "\n",
    "ans-a.Regular Function:\n",
    "A standard function is defined using the def keyword and is called using its name followed by parentheses.\n",
    "# Example: def add(a, b):\n",
    "\n",
    "b.Function with Default Arguments:\n",
    "Functions can have default values for parameters, which are used if no argument is provided during the call.\n",
    "# Example: def greet(name=\"Guest\"):\n",
    "\n",
    "c.Function with Variable Positional Arguments (*args):\n",
    "Allows passing a variable number of non-keyword arguments.\n",
    "# Example: def sum_all(*numbers):\n",
    "\n",
    "d.Function with Variable Keyword Arguments (**kwargs):\n",
    "Allows passing a variable number of keyword arguments.\n",
    "# Example: def print_info(**info):\n",
    "\n",
    "e.Lambda (Anonymous) Function:\n",
    "A small, unnamed function defined using the lambda keyword.\n",
    "# Example: lambda x: x + 1\n",
    "\n",
    "f.Recursive Function:\n",
    "A function that calls itself within its definition to solve a problem.\n",
    "\n",
    "# Example: def factorial(n):\n",
    "  #  if n == 0:\n",
    "  #      return 1\n",
    "  #  return n * factorial(n - 1)\n",
    "\n",
    "ques4. What is the purpose of the `return` statement in a Python function?\n",
    "\n",
    "ans- The return statement is used to exit a function and send back a value to the caller. \n",
    "example:\n",
    "# def sub(x,y)\n",
    " #  return x-y   \n",
    "\n",
    "ques5. What are iterators in Python and how do they differ from iterables?\n",
    "\n",
    "ans-An iterable is any Python object that can be looped over, such as lists, tuples, strings, etc. It must implement the __iter__() method, which returns an iterator.\n",
    "An iterator is an object that represents a stream of data. It implements both the __iter__() and __next__() methods. The __next__() method returns the next item in the sequence, and raises a StopIteration exception when there are no more items.\n",
    "\n",
    "ques6. Explain the concept of generators in Python and how they are defined.\n",
    "\n",
    "\n",
    "ans-A generator in Python is a special type of function that yields values one at a time, using the yield keyword, instead of returning all values at once. Generators are used to create iterators in a simple and memory-efficient way, especially for working with large datasets or infinite sequences.\n",
    "example:\n",
    "# def count_up_to(n):\n",
    "#    i = 1\n",
    "#   while i <= n:\n",
    "#       yield i\n",
    "#       i += 1\n",
    "\n",
    "ques7. What are the advantages of using generators over regular functions?\n",
    "\n",
    "\n",
    "ans-a.Memory Efficiency:\n",
    "Generators do not store the entire sequence in memory. They generate values one at a time, which is ideal for working with large datasets.\n",
    "\n",
    "b.Lazy Evaluation:\n",
    "Generators produce values only when requested, reducing unnecessary computations and improving performance.\n",
    "\n",
    "c.Simpler Syntax for Iterators:\n",
    "Generators simplify the creation of iterators without needing to define __iter__() and __next__() methods.\n",
    "\n",
    "d.Faster Execution in Some Cases:\n",
    "Since values are generated on the fly, generators can be more efficient than regular functions that return complete data structures.\n",
    "\n",
    "e.State Preservation:\n",
    "Generators automatically preserve their internal state between successive calls, allowing for pause-and-resume behavior.\n",
    "\n",
    "\n",
    "ques8. What is a lambda function in Python and when is it typically used?\n",
    "\n",
    "ans-A lambda function is an anonymous (nameless) function in Python, defined using the lambda keyword. It can have any number of arguments but only one expression, which is evaluated and returned.\n",
    "example:syntax of lambda\n",
    "# lambda arguments: expression\n",
    "\n",
    "\n",
    "\n",
    "ques9. Explain the purpose and usage of the `map()` function in Python.\n",
    "\n",
    "ans-The map() function is used to apply a function to each item in an iterable (like a list or tuple) and return a new map object containing the results. the purpose of map is to transform or modify elements of an iterable using a function, without writing an explicit loop.\n",
    "example:\n",
    "# numbers = [1, 2, 3]\n",
    "# squared = map(lambda x: x ** 2, numbers)\n",
    "# print(list(squared))  \n",
    "\n",
    "\n",
    "ques10. What is the difference between `map()`, `reduce()`, and `filter()` functions in Python?\n",
    "\n",
    "ans- a.map() Function:\n",
    "\n",
    "1.Purpose: To apply a function to each element of an iterable.\n",
    "2.It returns a new iterable with the transformed values.\n",
    "3.Commonly used for data transformation.\n",
    "\n",
    "b.filter() Function:\n",
    "\n",
    "1.Purpose: To filter elements from an iterable based on a condition.\n",
    "2.It returns a new iterable containing only the elements that satisfy the condition.\n",
    "3.Used for extracting relevant data.\n",
    "\n",
    "c.reduce() Function:\n",
    "\n",
    "1.Purpose: To apply a function cumulatively to the elements of an iterable, reducing them to a single value.\n",
    "2.It is used for performing aggregations, like calculating a sum or product.\n",
    "3.It must be imported from the functools module.\n",
    "\n",
    "\n",
    "\n"
   ]
  },
  {
   "cell_type": "code",
   "execution_count": 14,
   "id": "3d4e84e1",
   "metadata": {},
   "outputs": [
    {
     "name": "stdout",
     "output_type": "stream",
     "text": [
      "12\n"
     ]
    }
   ],
   "source": [
    "#1. Write a Python function that takes a list of numbers as input and returns the sum of all even numbers in the list.\n",
    "\n",
    "\n",
    "\n",
    "\n",
    "def sumeven(a):\n",
    "    sum= 0\n",
    "    for i in a:\n",
    "        if i % 2==0:\n",
    "            sum += i\n",
    "\n",
    "    return sum\n",
    "\n",
    "l=[1,2,3,4,5,6]\n",
    "result=sumeven(l)\n",
    "print(result)\n"
   ]
  },
  {
   "cell_type": "code",
   "execution_count": 17,
   "id": "ecdfe34d",
   "metadata": {},
   "outputs": [
    {
     "data": {
      "text/plain": [
       "'sllikswp'"
      ]
     },
     "execution_count": 17,
     "metadata": {},
     "output_type": "execute_result"
    }
   ],
   "source": [
    "#2. Create a Python function that accepts a string and returns the reverse of that string.\n",
    "\n",
    "def reversestr(interstring):\n",
    "    return interstring[::-1]\n",
    "\n",
    "reversestr(\"pwskills\")"
   ]
  },
  {
   "cell_type": "code",
   "execution_count": 30,
   "id": "80fe795a",
   "metadata": {},
   "outputs": [
    {
     "data": {
      "text/plain": [
       "[1, 4, 9, 16, 25, 36]"
      ]
     },
     "execution_count": 30,
     "metadata": {},
     "output_type": "execute_result"
    }
   ],
   "source": [
    "#3.Implement a Python function that takes a list of integers and returns a new list containing the squares of each number.\n",
    "\n",
    "def intili(a):\n",
    "    result= []\n",
    "    for i in a:\n",
    "        result.append(i*i)\n",
    "\n",
    "    return result\n",
    "\n",
    "l=[1,2,3,4,5,6]\n",
    "intili(l)\n",
    "\n"
   ]
  },
  {
   "cell_type": "code",
   "execution_count": 55,
   "id": "c654a7a3",
   "metadata": {},
   "outputs": [
    {
     "name": "stdout",
     "output_type": "stream",
     "text": [
      "2 is a prime number\n",
      "3 is a prime number\n",
      "5 is a prime number\n",
      "7 is a prime number\n",
      "11 is a prime number\n",
      "13 is a prime number\n",
      "17 is a prime number\n",
      "19 is a prime number\n",
      "23 is a prime number\n",
      "29 is a prime number\n",
      "31 is a prime number\n",
      "37 is a prime number\n",
      "41 is a prime number\n",
      "43 is a prime number\n",
      "47 is a prime number\n",
      "53 is a prime number\n",
      "59 is a prime number\n",
      "61 is a prime number\n",
      "67 is a prime number\n",
      "71 is a prime number\n",
      "73 is a prime number\n",
      "79 is a prime number\n",
      "83 is a prime number\n",
      "89 is a prime number\n",
      "97 is a prime number\n",
      "101 is a prime number\n",
      "103 is a prime number\n",
      "107 is a prime number\n",
      "109 is a prime number\n",
      "113 is a prime number\n",
      "127 is a prime number\n",
      "131 is a prime number\n",
      "137 is a prime number\n",
      "139 is a prime number\n",
      "149 is a prime number\n",
      "151 is a prime number\n",
      "157 is a prime number\n",
      "163 is a prime number\n",
      "167 is a prime number\n",
      "173 is a prime number\n",
      "179 is a prime number\n",
      "181 is a prime number\n",
      "191 is a prime number\n",
      "193 is a prime number\n",
      "197 is a prime number\n",
      "199 is a prime number\n"
     ]
    }
   ],
   "source": [
    "#4. Write a Python function that checks if a given number is prime or not from 1 to 200.\n",
    "\n",
    "def is_prime(n):\n",
    "    if n <= 1:\n",
    "        return False  \n",
    "    for i in range(2, n):\n",
    "        if n % i == 0:\n",
    "            return False\n",
    "    return True\n",
    "\n",
    "for num in range(1, 201):\n",
    "    if is_prime(num):\n",
    "        print(num, \"is a prime number\")\n",
    "\n"
   ]
  },
  {
   "cell_type": "code",
   "execution_count": 39,
   "id": "4f3f2ca5",
   "metadata": {},
   "outputs": [
    {
     "data": {
      "text/plain": [
       "[0,\n",
       " 1,\n",
       " 1,\n",
       " 2,\n",
       " 3,\n",
       " 5,\n",
       " 8,\n",
       " 13,\n",
       " 21,\n",
       " 34,\n",
       " 55,\n",
       " 89,\n",
       " 144,\n",
       " 233,\n",
       " 377,\n",
       " 610,\n",
       " 987,\n",
       " 1597,\n",
       " 2584,\n",
       " 4181]"
      ]
     },
     "execution_count": 39,
     "metadata": {},
     "output_type": "execute_result"
    }
   ],
   "source": [
    "#5.Create an iterator class in Python that generates the Fibonacci sequence up to a specified number of terms.\n",
    "\n",
    "def fibo(x):\n",
    "    if x <=1:\n",
    "        return x\n",
    "    else:\n",
    "        return fibo(x-1) + fibo(x-2)\n",
    "    \n",
    "[fibo(i) for i in range(20)]\n",
    "    "
   ]
  },
  {
   "cell_type": "code",
   "execution_count": 43,
   "id": "f661d85e",
   "metadata": {},
   "outputs": [
    {
     "data": {
      "text/plain": [
       "<generator object square_number_generators at 0x000001EFA9FB0520>"
      ]
     },
     "execution_count": 43,
     "metadata": {},
     "output_type": "execute_result"
    }
   ],
   "source": [
    "#6. Write a generator function in Python that yields the powers of 2 up to a given exponent.\n",
    "\n",
    "def square_number_generators(n):\n",
    "    for i in range(n):\n",
    "        yield i**2\n",
    "\n",
    "square_number_generators(10) \n",
    "\n",
    "gen= square_number_generators(10)\n",
    "\n",
    "gen"
   ]
  },
  {
   "cell_type": "code",
   "execution_count": 44,
   "id": "b1c030e7",
   "metadata": {},
   "outputs": [
    {
     "data": {
      "text/plain": [
       "0"
      ]
     },
     "execution_count": 44,
     "metadata": {},
     "output_type": "execute_result"
    }
   ],
   "source": [
    "next(gen)"
   ]
  },
  {
   "cell_type": "code",
   "execution_count": 45,
   "id": "ae46818e",
   "metadata": {},
   "outputs": [
    {
     "data": {
      "text/plain": [
       "1"
      ]
     },
     "execution_count": 45,
     "metadata": {},
     "output_type": "execute_result"
    }
   ],
   "source": [
    "next(gen)"
   ]
  },
  {
   "cell_type": "code",
   "execution_count": 46,
   "id": "6a03bb23",
   "metadata": {},
   "outputs": [
    {
     "data": {
      "text/plain": [
       "4"
      ]
     },
     "execution_count": 46,
     "metadata": {},
     "output_type": "execute_result"
    }
   ],
   "source": [
    "next(gen)"
   ]
  },
  {
   "cell_type": "code",
   "execution_count": 49,
   "id": "7329bd48",
   "metadata": {},
   "outputs": [],
   "source": [
    "#7. Implement a generator function that reads a file line by line and yields each line as a string.\n",
    "\n",
    "def read_file(file_path):\n",
    "    with open (file_path, 'r') as file:\n",
    "        for line in file :\n",
    "            yield line"
   ]
  },
  {
   "cell_type": "code",
   "execution_count": 50,
   "id": "ee474d80",
   "metadata": {},
   "outputs": [
    {
     "name": "stdout",
     "output_type": "stream",
     "text": [
      "[(4, 1), (2, 2), (1, 3)]\n"
     ]
    }
   ],
   "source": [
    "#8. Use a lambda function in Python to sort a list of tuples based on the second element of each tuple.\n",
    "\n",
    "data = [(1, 3), (4, 1), (2, 2)]\n",
    "sorted_data = sorted(data, key=lambda x: x[1])\n",
    "print(sorted_data)"
   ]
  },
  {
   "cell_type": "code",
   "execution_count": 51,
   "id": "adcc1d8a",
   "metadata": {},
   "outputs": [
    {
     "name": "stdout",
     "output_type": "stream",
     "text": [
      "Fahrenheit: [32.0, 50.0, 68.0, 86.0, 104.0]\n"
     ]
    }
   ],
   "source": [
    "#9. Write a Python program that uses `map()` to convert a list of temperatures from Celsius to Fahrenheit.\n",
    "\n",
    "celsius = [0, 10, 20, 30, 40]\n",
    "fahrenheit = list(map(lambda c: (c * 9/5) + 32, celsius))\n",
    "print(\"Fahrenheit:\", fahrenheit)\n"
   ]
  },
  {
   "cell_type": "code",
   "execution_count": 53,
   "id": "21199e05",
   "metadata": {},
   "outputs": [
    {
     "name": "stdout",
     "output_type": "stream",
     "text": [
      "Without vowels: Hll, hw r y?\n"
     ]
    }
   ],
   "source": [
    "#10. Create a Python program that uses `filter()` to remove all the vowels from a given string.\n",
    "\n",
    "def remove_vowels(input_string):\n",
    "    vowels = 'aeiouAEIOU'\n",
    "    result = ''.join(filter(lambda char: char not in vowels, input_string))\n",
    "    return result\n",
    "\n",
    "text = \"Hello, how are you?\"\n",
    "no_vowels = remove_vowels(text)\n",
    "print(\"Without vowels:\", no_vowels)"
   ]
  },
  {
   "cell_type": "code",
   "execution_count": 54,
   "id": "1f2eae7b",
   "metadata": {},
   "outputs": [
    {
     "name": "stdout",
     "output_type": "stream",
     "text": [
      "[(34587, 50.95), (98762, 66.8), (77226, 109.0), (88112, 84.97)]\n"
     ]
    }
   ],
   "source": [
    "#11.Imagine an accounting routine used in a book shop. It works on a list with sublists, which look like this:\n",
    "\n",
    "\n",
    "#Write a Python program, which returns a list with 2-tuples. Each tuple consists of the order number and the\n",
    "#product of the price per item and the quantity. The product should be increased by 10,- € if the value of the\n",
    "#order is smaller than 100,00 €.\n",
    "\n",
    "#Write a Python program using lambda and map\n",
    "\n",
    "orders = [\n",
    "    [34587, \"Learning Python\", 1, 40.95],\n",
    "    [98762, \"Programming Python\", 1, 56.80],\n",
    "    [77226, \"Head First Python\", 3, 33.00],\n",
    "    [88112, \"Einführung in Python3\", 3, 24.99]\n",
    "]\n",
    "\n",
    "result = list(map(lambda order: (\n",
    "    order[0],\n",
    "    order[2] * order[3] if order[2] * order[3] >= 100 else order[2] * order[3] + 10\n",
    "), orders))\n",
    "\n",
    "print(result)"
   ]
  }
 ],
 "metadata": {
  "kernelspec": {
   "display_name": "base",
   "language": "python",
   "name": "python3"
  },
  "language_info": {
   "codemirror_mode": {
    "name": "ipython",
    "version": 3
   },
   "file_extension": ".py",
   "mimetype": "text/x-python",
   "name": "python",
   "nbconvert_exporter": "python",
   "pygments_lexer": "ipython3",
   "version": "3.11.3"
  }
 },
 "nbformat": 4,
 "nbformat_minor": 5
}
